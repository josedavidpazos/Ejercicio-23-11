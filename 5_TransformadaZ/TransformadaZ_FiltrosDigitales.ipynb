{
  "nbformat": 4,
  "nbformat_minor": 0,
  "metadata": {
    "kernelspec": {
      "display_name": "Python 3",
      "language": "python",
      "name": "python3"
    },
    "language_info": {
      "codemirror_mode": {
        "name": "ipython",
        "version": 3
      },
      "file_extension": ".py",
      "mimetype": "text/x-python",
      "name": "python",
      "nbconvert_exporter": "python",
      "pygments_lexer": "ipython3",
      "version": "3.7.1"
    },
    "colab": {
      "name": "TransformadaZ.ipynb",
      "provenance": [],
      "include_colab_link": true
    }
  },
  "cells": [
    {
      "cell_type": "markdown",
      "metadata": {
        "id": "view-in-github",
        "colab_type": "text"
      },
      "source": [
        "<a href=\"https://colab.research.google.com/github/josedavidpazos/Ejercicio-23-11/blob/main/5_TransformadaZ/TransformadaZ_FiltrosDigitales.ipynb\" target=\"_parent\"><img src=\"https://colab.research.google.com/assets/colab-badge.svg\" alt=\"Open In Colab\"/></a>"
      ]
    },
    {
      "cell_type": "markdown",
      "metadata": {
        "id": "jn9bBobHCT3_"
      },
      "source": [
        "# Principios básicos de filtrado y Transformada Z"
      ]
    },
    {
      "cell_type": "markdown",
      "metadata": {
        "id": "_MrSXF7hK5rv"
      },
      "source": [
        "Elaborado por Santiago Tabares satabaresgi@unal.edu.co , Andres Alvarez amalvarezme@unal.edu.co\n",
        "\n",
        "#Transformada de Laplace\n",
        "\n",
        "La transformada de Laplace se puede entender como la transformada de Fourier de una función multiplicada por una exponencial decreciente, buscando cumplir las condición débil de Dirichlet $\\int_T |x(t)|dt<\\infty.$\n",
        "\n",
        "### Transformada de Fourier de la señal $x(t)$:\n",
        "\n",
        "$$\n",
        "X(\\omega) = \\int^{+\\infty}_{-\\infty}x(t)e^{-j\\omega t}dt\n",
        "$$\n",
        "\n",
        "Si se múltiplica la señal $x(t)$ por la exponencial $e^{- \\sigma t}$ y se le halla su transformada de Fourier, se obtiene la transformada de Laplace:\n",
        "\n",
        "$$\n",
        "\\hat{x}(t,\\sigma) = x(t)e^{-\\sigma t}\n",
        "$$\n",
        "\n",
        "$$\n",
        "\\hat{X}(\\sigma, \\omega) = \\int^{+\\infty}_{-\\infty}\\hat{x}(t,\\sigma)e^{-j\\omega t}dt = \\int^{+\\infty}_{-\\infty}x(t)e^{-\\sigma t}e^{-j\\omega t}dt\n",
        "$$\n",
        "\n",
        "Lo común es escribir ambas variables en una sola, haciendo $\\sigma + j\\omega = s$:\n",
        "\n",
        "$$\n",
        "\\hat{X}(\\omega,\\sigma) = X(s)\n",
        "$$\n",
        "\n",
        "$$\n",
        "X(s) = \\int^{+\\infty}_{-\\infty}x(t)e^{-s t}dt\n",
        "$$\n",
        "\n",
        "$$\n",
        "\\mathscr{L}\\big\\{ x(t)\\big\\}=\\mathscr{F}\\big\\{ x(t)e^{-\\sigma t}\\big\\}\n",
        "$$\n",
        "\n"
      ]
    },
    {
      "cell_type": "markdown",
      "metadata": {
        "id": "cCdMVnPxCcIO"
      },
      "source": [
        "#Transformada Z\n",
        "Para extender el concepto de transformada de Laplace a señales discretas, se modela una señal muestreada $x_{m}(t)$ como una señal continua $x(t)$ muestreada por un *ideal sampler* (tren de impulsos de periodo T):\n",
        "\n",
        "$$\n",
        "x_{m}(t) = \\sum^{+\\infty}_{n=-\\infty}x(nT)\\delta(t-nT)\n",
        "$$\n",
        "\n",
        "Obteniendo la transformada de Laplace de esta señal:\n",
        "\n",
        "$$\n",
        "X_{m}(s) = \\int^{+\\infty}_{-\\infty}\\sum^{+\\infty}_{n=-\\infty}x(nT)\\delta(t-nT)e^{-s t}dt\n",
        "$$\n",
        "\n",
        "$$\n",
        "X_{m}(s) = \\sum^{+\\infty}_{n=-\\infty}x(nT)\\int^{+\\infty}_{-\\infty}\\delta(t-nT)e^{-s t}dt = \\sum^{+\\infty}_{n=-\\infty}x(nT)e^{-snT}\n",
        "$$\n",
        "\n",
        "Notando que $x(nT)$ es $x[n]$ y haciendo $z = e^{sT}$ se obtiene la transformada Z:\n",
        "\n",
        "$$\n",
        "X_{m}(s) = X(z)\n",
        "$$\n",
        "\n",
        "$$\n",
        "X(z)= \\sum^{+\\infty}_{n=-\\infty}x[n]z^{-n}\n",
        "$$"
      ]
    },
    {
      "cell_type": "markdown",
      "metadata": {
        "id": "DlxWQ8Pw7viq"
      },
      "source": [
        "#Relación entre el plano $s$ y el plano $z$\n",
        "La relación entre el plano $s$ y el plano $z$ puede obtenerse expresando $s$ como número complejo:\n",
        "\n",
        "$$\n",
        "z = e^{sT}=e^{(\\sigma+j\\omega)T}\n",
        "$$\n",
        "\n",
        "Al expresar $e^{\\sigma T}$ como $r$ y haciendo $\\omega T =\\Omega$ se obtiene la representación de $z$ en forma polar:\n",
        "\n",
        "$$\n",
        "z=re^{j\\Omega}\n",
        "$$\n",
        "\n",
        "Es fundamental notar que los valores $r$ y $\\Omega$ dependen del periodo de muestreo $T$.\n",
        "\n",
        "Como $r$ depende de $\\sigma$, líneas verticales en $s$ mapean circunferencias en $z$, mientras que líneas horizontales en $s$ ($\\omega$ constante) mapean líneas rectas inclinadas en $z$."
      ]
    },
    {
      "cell_type": "markdown",
      "metadata": {
        "id": "AfhtMhCQ61fk"
      },
      "source": [
        "![texto alternativo](https://lh4.googleusercontent.com/4xMYEQ5-XZOzDN6Up69rhFRmCMbZ1E9f0KXEDeRD5s4MeB9p3sJ07Jxzu8y2RxX4JGg45sFXdYUNz3WXFmN_beoeCG0_sPtsXp57sgI0L5K8qQ8xbTPEM1Z-K3xyoAbylnW1X1Ra)"
      ]
    },
    {
      "cell_type": "markdown",
      "metadata": {
        "id": "p94eTYqQgODZ"
      },
      "source": [
        "- Recordar que la transformada de Fourier se obtiene cuando $\\sigma =0$, es decir, evaluando $s$ sobre el eje vertical, quedando $s=j\\omega$.\n",
        "\n",
        "- De manera similar, debido a la dependencia de $r$ con respecto a $\\sigma$, la transformada en tiempo discreto de Fourier (DTFT) se obtiene cuando $r=1$, es decir, evaluando $z$ sobre la circunferencia unitaria, quedando $z=e^{j\\Omega}$.\n",
        "\n",
        "Por este motivo, es que el espectro de una señal discreta $x[n]$ se suele denotar como $X(e^{j\\Omega}).$"
      ]
    },
    {
      "cell_type": "markdown",
      "metadata": {
        "id": "bEteoNqfKcLK"
      },
      "source": [
        "#Modelado con la transformada Z\n",
        "\n",
        "De manera similar, al modelado mediante ecuaciones diferenciales de los sistemas continuos, un SLIT discreto puede modelarse mediante ecuaciones de diferencias:\n",
        "\n",
        "$$\n",
        "a_{0}y[n]+a_{1}y[n-1]+a_{2}y[n-2]+\\cdots + a_N y[n-N] = b_{0}x[n]+b_{1}x[n-1]+b_{2}x[n-2]+\\cdots+b_M x[n-M]\n",
        "$$\n",
        "\n",
        "$$\n",
        "\\sum_{k=0}^{N}a_{k}y[n-k] = \\sum_{k=0}^{M}b_{k}x[n-k]\n",
        "$$\n",
        "\n",
        "Aplicando la transformada $Z$ a esta expresión:\n",
        "\n",
        "$$\n",
        "a_{0}Y(z)+a_{1}z^{-1}Y(z)+a_{2}z^{-2}Y(z)+\\cdots+a_Nz^{-N}Y(z) = b_{0}X(z)+b_{1}z^{-1}X(z)+b_{2}z^{-2}X(z)+\\cdots+b_Mz^{-M}X(z)\n",
        "$$\n",
        "\n",
        "**Nota**: Se sabe que $\\mathfrak{Z}\\{x[n\\pm M]\\}=z^{\\pm M}X(z).$\n",
        "\n",
        "La transformada Z plantea que:\n",
        "\n",
        "$$\n",
        "X(z)= \\sum^{+\\infty}_{n=-\\infty}x[n]z^{-n}\n",
        "$$\n",
        "\n",
        "Así:\n",
        "\n",
        "$$\\mathfrak{Z}\\{x[n \\pm M]\\}= \\sum^{+\\infty}_{n=-\\infty}x[n \\pm M]z^{-n}$$\n",
        "\n",
        "Para $n'=n\\pm M;$  $n=n'\\mp M:$\n",
        "\n",
        "$$\\sum^{+\\infty}_{n'=-\\infty}x[n']z^{-(n'\\mp M)}=\\sum^{+\\infty}_{n'=-\\infty}x[n']z^{-n'}z^{\\pm M}$$\n",
        "\n",
        "$$z^{\\pm M}\\sum^{+\\infty}_{n'=-\\infty}x[n']z^{-n'}=z^{\\pm M}X(z)$$\n",
        "\n",
        "Por ende,\n",
        "\n",
        "$$\n",
        "\\bigg(\\sum_{k=0}^{N}a_{k}z^{-k}\\bigg)Y(z)= \\bigg(\\sum_{k=0}^{M}b_{k}z^{-k}\\bigg)X(z)\n",
        "$$\n",
        "\n",
        "Al hallar la función de transferencia se observa que un SLIT discreto puede modelarse como un cociente de polinomios en $z$\n",
        ":\n",
        "\n",
        "$$H(z) = \\frac{Y(z)}{X(z)} = \\frac{\\sum_{k=0}^{M}b_{k}z^{-k}}{\\sum_{k=0}^{N}a_{k}z^{-k}}\n",
        "$$\n",
        "\n",
        "# Sistemas no recursivos (FIR)\n",
        "\n",
        "Un sistema que carece de realimentacion se denomina sistema de *respuesta finita al impulso* (FIR). Al carecer de realimentación, se tiene que $a_{k}=0, \\forall k=\\{1, 2, 3, ..., N\\}$, y $a_{0}=1$. De modo que su función de transferencia es (solo ceros):\n",
        "\n",
        "$$\n",
        "H(z) = \\frac{Y(z)}{X(z)} = \\sum_{k=0}^{M}b_{k}z^{-k}\n",
        "$$\n",
        "\n",
        "# Sistemas recursivos (IIR)\n",
        "\n",
        "La forma canónica directa de los sistemas de *respuesta infinita al impulso* (IIR) se obtiene haciendo $a_{0}=1$, con lo que su función de transferencia se define como:\n",
        "\n",
        "$$\n",
        "H(z) = \\frac{Y(z)}{X(z)} = \\frac{\\sum_{k=0}^{M}b_{k}z^{-k}}{1-\\sum_{k=1}^{N}a_{k}z^{-k}}\n",
        "$$"
      ]
    },
    {
      "cell_type": "markdown",
      "metadata": {
        "id": "J1jS7qrsf8eg"
      },
      "source": [
        "#Diseño de Filtros IIR\n",
        "\n",
        "##Invarianza del impulso\n",
        "Este método de diseño se basa en el muestreo de la respuesta impulso de un filtro en tiempo continuo $h_{c}(t)$, multiplicada por el período de muestreo $T_{s}$:\n",
        "\n",
        "$$\n",
        "h[n]=T_{s}h_{c}(nT_{s}).\n",
        "$$\n",
        "\n",
        "Un sistema continuo se puede representar en $s$ como una suma de fracciones parciales:\n",
        "\n",
        "$$\n",
        "H_{c}(s) = \\sum_{k=1}^{N}\\frac{A_{k}}{s-s_{k}}.\n",
        "$$\n",
        "\n",
        "$$\\frac{Y(s)}{X(s)}=H(s),$$ $x(t)=\\delta(t)$\n",
        "\n",
        "$X(s)=1$\n",
        "\n",
        "La correspondiente función en tiempo es entonces (Ver [tablas transformada de Laplace](https://tutorial.math.lamar.edu/classes/de/laplace_table.aspx)):\n",
        "\n",
        "$$ h_{c}(t)=\n",
        "  \\begin{cases}\n",
        "    \\sum_{k=1}^{N}A_{k}e^{s_{k}t}       & \\quad t\\geq0\\\\\n",
        "    0  & \\quad t<0\n",
        "  \\end{cases}\n",
        "$$\n",
        "\n",
        "Realizando el muestreo:\n",
        "\n",
        "$$\n",
        "h[n] = T_{s}\\sum_{k=1}^{N}A_{k}e^{s_{k}nT_{s}}u[n].\n",
        "$$\n",
        "\n",
        "Al obtener la transformada $Z$ (Ver [tablas transformada Z](https://lpsa.swarthmore.edu/LaplaceZTable/LaplaceZFuncTable.html)), se obtiene:\n",
        "\n",
        "$$\n",
        "H(z)=\\sum_{k=1}^{N}\\frac{T_{s}A_{k}}{1-e^{s_{k}T_{s}}z^{-1}}\n",
        "$$\n",
        "\n",
        "De manera que conociendo los polos $s=s_{k}$ se puede obtener los polos $z=e^{s_{k}T_{s}}$.\n",
        "\n"
      ]
    },
    {
      "cell_type": "markdown",
      "metadata": {
        "id": "tVoSgJV6JzkS"
      },
      "source": [
        "###Ejemplo de diseño de un filtro en tiempo discreto a partir de su contraparte en tiempo continuo\n",
        "\n",
        "Supóngase que se tiene un filtro con los siguientes polos, queriendo realizar un filtrado con $T_{s}=1$:\n",
        "\n",
        "$$\n",
        "s_{1,2}=-\\frac{1}{2}\\pm j\\frac{1}{2}\n",
        "$$\n",
        "\n",
        "La correspondiente función de transferencia en $s$ se encuentra según sus polos como:\n",
        "\n",
        "$$\n",
        "H_{c}(s) = \\frac{j}{s+\\frac{1+j}{2}} - \\frac{j}{s+\\frac{1-j}{2}}\n",
        "$$\n",
        "\n",
        "Los polos en $z$ se calculan de la manera indicada anteriormente\n",
        "\n",
        "$$\n",
        "z_1=e^{-\\frac{1+j}{2}}\n",
        "$$\n",
        "$$\n",
        "z_2=e^{-\\frac{1-j}{2}}\n",
        "$$\n",
        "\n",
        "Finalmente, obteniendo la función de transferencia en $z$\n",
        "\n",
        "$$\n",
        "H(z)=\\frac{j}{1-e^{-\\frac{1+j}{2}}z^{-1}} -\\frac{j}{1-e^{-\\frac{1-j}{2}}z^{-1}}\n",
        "$$\n",
        "\n",
        "$$\n",
        "H(z)=\\frac{jz}{z-e^{-\\frac{1+j}{2}}} -\\frac{jz}{z-e^{-\\frac{1-j}{2}}}\n",
        "$$\n",
        "\n",
        "##Transformación bilineal\n",
        "\n",
        "Este método consiste en realizar el siguiente mapeo (Ver aproximación función logartimo en [transformación bilineal](https://en.wikipedia.org/wiki/Bilinear_transform))\n",
        "\n",
        "$$\n",
        "s=\\frac{2}{T_{s}}\\bigg(\\frac{1-z^{-1}}{1+z^{-1}}\\bigg)\n",
        "$$\n",
        "\n",
        "Al evaluar $H_{c}(s)$ en tal expresión, se obtiene  la función de transferencia en $z$\n",
        "\n",
        "$$\n",
        "H(z)=H_{c}\\Bigg(\\frac{2}{T_{s}}\\bigg(\\frac{1-z^{-1}}{1+z^{-1}}\\bigg)\\Bigg)\n",
        "$$\n",
        "\n",
        "El mapeo correspondiente de $s$ a $z$ se obtiene despejando $z$ de la primera expresión\n",
        "\n",
        "$$\n",
        "z=\\frac{1+(T_{s}/2)s}{1-(T_{s}/2)s}\n",
        "$$\n",
        "\n",
        "###Ejemplo\n",
        "Supongase que se tiene el mismo filtro anterior, pero esta vez se desea obtener la expresión en $z$ mediante transformación bilinear. Realizando la evaluación de $s$ como se expuso\n",
        "\n",
        "$$\n",
        "H_{c}\\bigg(2\\Big(\\frac{1-z^{-1}}{1+z^{-1}}\\Big)\\bigg) = \\frac{j}{2\\Big(\\frac{1-z^{-1}}{1+z^{-1}}\\Big)+\\frac{1+j}{2}} - \\frac{j}{2\\Big(\\frac{1-z^{-1}}{1+z^{-1}}\\Big)+\\frac{1-j}{2}}\n",
        "$$\n",
        "\n",
        "Desarrollando algrebraicamente se llega finalmente a la expresión\n",
        "\n",
        "$$\n",
        "H(z)=\\frac{1+5j}{13}\\cdot\\frac{z+1}{z+\\frac{-7+4j}{13}} +\\frac{1-5j}{13}\\cdot\\frac{z+1}{z-\\frac{7+4j}{13}}\n",
        "$$\n",
        "\n",
        "Que es precisamente la función de transferencia que se quería encontrar.\n",
        "\n",
        "Este último es el método que se suele usar para diseñar aproximaciones de los filtros Butterworth, Chebyshev y elípticos en tiempo discreto."
      ]
    },
    {
      "cell_type": "markdown",
      "metadata": {
        "id": "zl8p2zAe9zMe"
      },
      "source": [
        "#Señal de audio"
      ]
    },
    {
      "cell_type": "markdown",
      "metadata": {
        "id": "c3eTRNkOK5rw"
      },
      "source": [
        "Audio a procesar. Se puede realizar con cualquier vídeo de youtube usando youtube-dl, únicamente se necesita el enlace al vídeo (pueden introducir el que ustedes quieran). Debería quedar guardado en el folder como audio.mp3"
      ]
    },
    {
      "cell_type": "code",
      "metadata": {
        "id": "rbQqVTEJaHsg"
      },
      "source": [
        "#! pip install youtube-dl\n",
        "!python3 -m pip install --force-reinstall https://github.com/yt-dlp/yt-dlp/archive/master.tar.gz"
      ],
      "execution_count": null,
      "outputs": []
    },
    {
      "cell_type": "code",
      "metadata": {
        "id": "icY827vZaKNH"
      },
      "source": [
        "link=\"https://www.youtube.com/watch?v=M-43pOqheMY&ab_channel=MetalBladeRecords\"\n",
        "!yt-dlp --extract-audio -o \"audio\" --audio-format mp3 {link}"
      ],
      "execution_count": null,
      "outputs": []
    },
    {
      "cell_type": "code",
      "metadata": {
        "id": "TmhwBQJxLpbS"
      },
      "source": [
        "!ffmpeg -i audio.mp3 output.wav"
      ],
      "execution_count": null,
      "outputs": []
    },
    {
      "cell_type": "code",
      "metadata": {
        "id": "4TLC8lowL3o6"
      },
      "source": [
        "!pip install soundfile"
      ],
      "execution_count": null,
      "outputs": []
    },
    {
      "cell_type": "code",
      "metadata": {
        "id": "wo0WaxdNK5rx"
      },
      "source": [
        "import soundfile as sf # para instalar pip install soundfile\n",
        "#lee archivos wav\n",
        "nombre_out = \"output.wav\"\n",
        "x, fs = sf.read(nombre_out)\n",
        "\n",
        "# read speech signal from file\n",
        "print('Frecuencia de muestreo %.2f[Hz]\\naudio %s' % (fs,nombre_out))"
      ],
      "execution_count": null,
      "outputs": []
    },
    {
      "cell_type": "code",
      "metadata": {
        "id": "cfxCQxcblGT5"
      },
      "source": [
        "x.shape[0]/fs"
      ],
      "execution_count": null,
      "outputs": []
    },
    {
      "cell_type": "code",
      "metadata": {
        "id": "Tb6-m9wFK5r1"
      },
      "source": [
        "xpro = x.copy() #copiar archivos para procesar\n",
        "ti = 30\n",
        "tf = 50\n",
        "xs = xpro[int(ti*fs):int((tf*fs)),:]"
      ],
      "execution_count": null,
      "outputs": []
    },
    {
      "cell_type": "code",
      "metadata": {
        "id": "tdAqk6rMpcNy"
      },
      "source": [
        "#Para escuchar el trozo de audio con el que se va a trabajar:\n",
        "#No usar un trozo muy grande o el entorno se puede desconectar\n",
        "from IPython.display import Audio\n",
        "Audio([xs[:,1], xs[:,0]],rate=fs)"
      ],
      "execution_count": null,
      "outputs": []
    },
    {
      "cell_type": "markdown",
      "metadata": {
        "id": "DoBViwwucKcq"
      },
      "source": [
        "# Filtrado y el retardo de fase\n",
        "\n",
        "- Dado que el filtro digital se puede entender como un sistema SLIT, su respuesta al impulso genera un desfase en la frecuencia que se evidencia como un retardo en el tiempo. El objetivo es mantener dicho retardo estable y conocido para compensarlo.\n",
        "\n",
        "\n",
        "\n",
        "$$\\mathfrak{F}\\{x(t\\pm t_0)\\}=X(w)e^{\\mp j w t_0}$$\n",
        "\n",
        "$$X(w)=|X(w)|e^{j\\theta}$$\n",
        "\n",
        "$$y(t)=\\mathfrak{H}\\{x(t)\\}=h(t)*x(t)$$\n",
        "\n",
        "$$Y(w)=X(w)H(w)=|X(w)||H(w)|e^{j(\\theta_x+\\theta_h)}$$\n",
        "\n",
        "\n",
        "- Algunas alternativas para compensar el retarda en fase incluyen la estimación del mismo desde los puntos en el tiempo (ver [lfitler_zi](https://docs.scipy.org/doc/scipy/reference/generated/scipy.signal.lfilter_zi.html))) o la evaluación del filtro hacia adelante y hacia atrás (ver [filtfilt](https://docs.scipy.org/doc/scipy/reference/generated/scipy.signal.filtfilt.html)).\n",
        "\n"
      ]
    },
    {
      "cell_type": "markdown",
      "metadata": {
        "id": "COWNRZvzB5k7"
      },
      "source": [
        "### FIltro Butterworth\n",
        "El [filtro Butterworth](https://en.wikipedia.org/wiki/Butterworth_filter) posee la ventaja de contar con la respuesta más plana posible para la banda pasante, sin embargo la banda de transición es muy amplia."
      ]
    },
    {
      "cell_type": "code",
      "metadata": {
        "id": "clk2lp6_hXfD"
      },
      "source": [
        "from scipy.signal import butter as bw\n",
        "from scipy.signal import freqz_zpk"
      ],
      "execution_count": null,
      "outputs": []
    },
    {
      "cell_type": "code",
      "metadata": {
        "id": "BAj0sg7oKuXO"
      },
      "source": [
        "N = 1 #orden el filtro\n",
        "Wn = [2000, 5000] #banda pasante\n",
        "filt = 'bandpass' #tipo del filtro (pasa-baja, pasa-alta, pasabanda, rechazabanda)\n",
        "out = 'zpk' #la funcion retorna los polos y ceros junto con la ganancia. Para usar numerador y denominador usar 'ba' junto con freqz\n",
        "zeros, poles, gain = bw(N, Wn, btype=filt, output=out, fs=fs)\n",
        "#K = len(Xw[:,0]) #longitud del vector transformada\n",
        "w, h = freqz_zpk(zeros, poles, gain, fs=fs) #Para indicar la longitud usar worN=K\n"
      ],
      "execution_count": null,
      "outputs": []
    },
    {
      "cell_type": "code",
      "metadata": {
        "id": "9F-zNybOi_OK"
      },
      "source": [
        "import numpy as np\n",
        "from matplotlib import pyplot as plt\n",
        "from matplotlib.patches import Circle\n",
        "\n",
        "def plot_freq_response(filter_name, w, h, N): #Mostrar la respuesta en frecuencia del filtro\n",
        "  fig = plt.figure()\n",
        "  ax1 = fig.add_subplot(1, 1, 1)\n",
        "  ax1.set_title(filter_name +' Digital filter frequency response, order= ' + str(N))\n",
        "  ax1.plot(w, 20 * np.log10(abs(h)), 'b')\n",
        "  ax1.set_ylabel('Amplitude [dB]', color='b')\n",
        "  ax1.set_xlabel('Frequency [Hz]')\n",
        "  ax1.grid()\n",
        "  ax2 = ax1.twinx()\n",
        "  angles = np.unwrap(np.angle(h))\n",
        "  ax2.plot(w, angles, 'g')\n",
        "  ax2.set_ylabel('Angle [radians]', color='g')\n",
        "  plt.axis('tight')\n",
        "  plt.show()"
      ],
      "execution_count": null,
      "outputs": []
    },
    {
      "cell_type": "code",
      "metadata": {
        "id": "TYxOd0qON39O"
      },
      "source": [
        "def show_zp(z, p, title= 'Z-plane'): # Mostrar la ubicación de los polos y los zeros\n",
        "  ax = plt.gca()\n",
        "\n",
        "  ax.plot(np.real(z), np.imag(z), 'bo', fillstyle='none', ms = 10)\n",
        "  ax.plot(np.real(p), np.imag(p), 'rx', fillstyle='none', ms = 10)\n",
        "  unit_circle = Circle((0,0), radius=1, fill=False,\n",
        "                        color='black', ls='solid', alpha=0.9)\n",
        "  ax.add_patch(unit_circle)\n",
        "  ax.axvline(0, color='0.7')\n",
        "  ax.axhline(0, color='0.7')\n",
        "\n",
        "  plt.title(title)\n",
        "  plt.xlabel(r'Re{$z$}')\n",
        "  plt.ylabel(r'Im{$z$}')\n",
        "  plt.axis('equal')\n",
        "  plt.xlim((-2, 2))\n",
        "  plt.ylim((-2, 2))\n",
        "  plt.grid()"
      ],
      "execution_count": null,
      "outputs": []
    },
    {
      "cell_type": "code",
      "metadata": {
        "id": "atq0dzN8mlDr"
      },
      "source": [
        "show_zp(zeros, poles, title='Polos y Ceros')"
      ],
      "execution_count": null,
      "outputs": []
    },
    {
      "cell_type": "code",
      "metadata": {
        "id": "lxiNJaOpmLlg"
      },
      "source": [
        "plot_freq_response('Butterworth', w, h, N)"
      ],
      "execution_count": null,
      "outputs": []
    },
    {
      "cell_type": "code",
      "metadata": {
        "id": "rVbr_NftKvGA"
      },
      "source": [
        "#Puede obtenerse un mejor resultado aumentando el grado del filtro, a cambio de un mayor coste computacional y problemas en la fase\n",
        "N = 4\n",
        "zeros, poles, gain = bw(N, Wn, btype=filt, output=out, fs=fs)\n",
        "w, h = freqz_zpk(zeros, poles, gain, fs=fs)\n",
        "\n",
        "plot_freq_response('Butterworth', w, h, N)"
      ],
      "execution_count": null,
      "outputs": []
    },
    {
      "cell_type": "markdown",
      "metadata": {
        "id": "FArGf3a1cU5n"
      },
      "source": [
        "### Filtro Chebyshev\n",
        "Al contrario del filtro Butterworth, el filtro de [Chebyshev](https://en.wikipedia.org/wiki/Chebyshev_filter) tiene una pendiente en la caída muy pronunciada, por lo que la banda de transición resulta ser menor, a cambio de que existe un rizado en la banda pasante y/o rechazada. Dependiendo del lugar en el que se escoja el rizado, se tienen dos filtros diferentes de Chebyshev.\n"
      ]
    },
    {
      "cell_type": "markdown",
      "metadata": {
        "id": "lCs1_tFlUpvR"
      },
      "source": [
        "#### Chebyshev 1\n",
        "Para este filtro se busca un mayor rechazo en la banda rechazada a cambio de obtener un rizado en la banda pasante"
      ]
    },
    {
      "cell_type": "code",
      "metadata": {
        "id": "wFFc19H2W3a-"
      },
      "source": [
        "from scipy.signal import cheby1"
      ],
      "execution_count": null,
      "outputs": []
    },
    {
      "cell_type": "code",
      "metadata": {
        "id": "Y_UDejuiW-b4"
      },
      "source": [
        "N = 4\n",
        "ripple = 10\n",
        "zeros, poles, gain = cheby1(N, rp=ripple, Wn=Wn, btype=filt, output=out, fs=fs)\n",
        "w, h = freqz_zpk(zeros, poles, gain, fs=fs)"
      ],
      "execution_count": null,
      "outputs": []
    },
    {
      "cell_type": "code",
      "metadata": {
        "id": "b3LSYb-CnOyK"
      },
      "source": [
        "show_zp(zeros, poles)"
      ],
      "execution_count": null,
      "outputs": []
    },
    {
      "cell_type": "code",
      "metadata": {
        "id": "cblU7PR-XUVm"
      },
      "source": [
        "plot_freq_response('Chebyshev1', w, h, N)"
      ],
      "execution_count": null,
      "outputs": []
    },
    {
      "cell_type": "markdown",
      "metadata": {
        "id": "dx4pP4E1Z_Uy"
      },
      "source": [
        "#### Chebyshev 2\n",
        "Para este caso del filtro Chebyshev, se prefiere que se tenga una respuesta plana en la banda pasante, obteniendo ahora el rizo en la banda rechazada"
      ]
    },
    {
      "cell_type": "code",
      "metadata": {
        "id": "pWlKGXckaYgC"
      },
      "source": [
        "from scipy.signal import cheby2\n",
        "from scipy.signal import freqz #para este caso no se van a mostrar los polos y ceros"
      ],
      "execution_count": null,
      "outputs": []
    },
    {
      "cell_type": "code",
      "metadata": {
        "id": "0u1ZlGhxablN"
      },
      "source": [
        "N = 4\n",
        "ripple = 20\n",
        "out = 'ba' #no regresa los polos y ceros, sino la funcion de transferencia\n",
        "num, den = cheby2(N, rs=ripple, Wn=Wn, btype=filt, output=out, fs=fs) #regresa numerador y denominador. Si se quiere obtener los polos y ceros usar scipy.signal.tf2zpk\n",
        "w, h = freqz(num, den, fs=fs)"
      ],
      "execution_count": null,
      "outputs": []
    },
    {
      "cell_type": "code",
      "metadata": {
        "id": "w1M1YrOubyiT"
      },
      "source": [
        "plot_freq_response('Chebyshev2', w, h, N)"
      ],
      "execution_count": null,
      "outputs": []
    },
    {
      "cell_type": "markdown",
      "metadata": {
        "id": "EKeHHOOjeAlI"
      },
      "source": [
        "### Filtro Elíptico (Filtro de Cauer)\n",
        "Este filtro [Elíptico](https://es.wikipedia.org/wiki/Filtro_de_Cauer#:~:text=Un%20filtro%20el%C3%ADptico%20o%20filtro,redes%20y%20dise%C3%B1o%20de%20filtros) es el que contiene la banda de transición más delgada posible, incluyendo además rizado tanto en la banda pasante como en la rechazada (ambos rizados son independientes entre sí)"
      ]
    },
    {
      "cell_type": "code",
      "metadata": {
        "id": "O1dROo-Ae7hG"
      },
      "source": [
        "from scipy.signal import ellip"
      ],
      "execution_count": null,
      "outputs": []
    },
    {
      "cell_type": "code",
      "metadata": {
        "id": "3-7_eYXpfBAV"
      },
      "source": [
        "N = 4\n",
        "ripple_pass = 2 #para la banda pasante\n",
        "ripple_stop = 30 #para la banda rechazada\n",
        "num, den = ellip(N, rp=ripple_pass, rs=ripple_stop, Wn=Wn, btype=filt, output=out, fs=fs) #regresa numerador y denominador. Si se quiere obtener los polos y ceros usar scipy.signal.tf2zpk\n",
        "w, h = freqz(num, den, fs=fs)"
      ],
      "execution_count": null,
      "outputs": []
    },
    {
      "cell_type": "code",
      "metadata": {
        "id": "PvXBHoPCfjeJ"
      },
      "source": [
        "plot_freq_response('Elliptic', w, h, N)"
      ],
      "execution_count": null,
      "outputs": []
    },
    {
      "cell_type": "markdown",
      "metadata": {
        "id": "kJFdSTzygZLR"
      },
      "source": [
        "### Filtro de Bessel\n",
        "El filtro de [Bessel](https://es.wikipedia.org/wiki/Filtro_de_Bessel)\n",
        "posee una respuesta casi lineal en fase.\n"
      ]
    },
    {
      "cell_type": "code",
      "metadata": {
        "id": "LRupyeUXg5FL"
      },
      "source": [
        "from scipy.signal import bessel"
      ],
      "execution_count": null,
      "outputs": []
    },
    {
      "cell_type": "code",
      "metadata": {
        "id": "opjDpamkg7uc"
      },
      "source": [
        "N = 4\n",
        "normalization = 'mag' #Ajusta la frecuencia crítica según la respuesta que se desea\n",
        "num, den = bessel(N, Wn=Wn, btype=filt, norm=normalization, output=out, fs=fs) #regresa numerador y denominador. Si se quiere obtener los polos y ceros usar scipy.signal.tf2zpk\n",
        "w, h = freqz(num, den, fs=fs)"
      ],
      "execution_count": null,
      "outputs": []
    },
    {
      "cell_type": "code",
      "metadata": {
        "id": "CMcVP259iIFD"
      },
      "source": [
        "plot_freq_response('Bessel', w, h, N)"
      ],
      "execution_count": null,
      "outputs": []
    },
    {
      "cell_type": "markdown",
      "metadata": {
        "id": "q4ntBMxoqXTl"
      },
      "source": [
        "# Ecualización\n",
        "Entre las diversas aplicaciones que tienen los filtros está el procesado de audio. Los dispositivos que ayudan a realizar estas tareas son los llamados ecualizadores, con los que se pueden realzar sonidos a unas determinadas frecuencias o suprimirlos si se desea."
      ]
    },
    {
      "cell_type": "code",
      "metadata": {
        "id": "v7PCDvH3iNt3"
      },
      "source": [
        "#Audio sobre el que se va a trabajar para este ejemplo.\n",
        "link=\"https://www.youtube.com/watch?v=_ghCnV_z7Vc\"\n",
        "!yt-dlp --extract-audio -o \"audio2\" --audio-format mp3 {link}\n",
        "\n",
        "!ffmpeg -i audio2.mp3 output2.wav\n",
        "\n",
        "nombre_out = \"output3.wav\"\n",
        "x, fs = sf.read(nombre_out)"
      ],
      "execution_count": null,
      "outputs": []
    },
    {
      "cell_type": "code",
      "metadata": {
        "id": "wGzM7mVXsiLG"
      },
      "source": [
        "x2 = x.copy()\n",
        "ti = 63\n",
        "tf = ti + 6\n",
        "xs = x2[int(ti*fs):int((tf*fs)),:]\n",
        "K= int(len(xs)/2) + 1\n",
        "\n",
        "Audio([xs[:,1], xs[:,0]],rate=fs) #segmento de audio"
      ],
      "execution_count": null,
      "outputs": []
    },
    {
      "cell_type": "markdown",
      "metadata": {
        "id": "7XfoGcYL8Yv7"
      },
      "source": [
        "## Filtro paso alto\n",
        "En los instrumentos musicales existe una banda de frecuencias en los que se pueden tocar, mientras que en otros les es imposible. Por este motivo es que es posible suprimir algunos instrumentos de una pista mediante el uso de filtros.\n",
        "\n",
        "Como ejemplo, supongase que en el audio anterior se quiere suprimir el sonido del bajo eléctrico. Como su nombre lo indica, este es un instrumento que se caracteriza por manejar una banda de frecuencias bajas (sonidos graves), por lo que aplicando un filtro de paso alto se podría realizar esta tarea.\n",
        "\n"
      ]
    },
    {
      "cell_type": "code",
      "metadata": {
        "id": "4R5uC_c2xu8R"
      },
      "source": [
        "filtro = \"highpass\"\n",
        "N = 6\n",
        "frec = 1000\n",
        "\n",
        "ripple_pass = 2\n",
        "ripple_stop = 101\n",
        "num, den = ellip(N, rp=ripple_pass, rs=ripple_stop, Wn=frec, btype=filtro, fs=fs)"
      ],
      "execution_count": null,
      "outputs": []
    },
    {
      "cell_type": "code",
      "metadata": {
        "id": "2KkIrsDd1LW2"
      },
      "source": [
        "from scipy.signal import lfilter, filtfilt # filtfilt compensa el retardo en tiempo debido a la respuesta en fase del filtro"
      ],
      "execution_count": null,
      "outputs": []
    },
    {
      "cell_type": "code",
      "metadata": {
        "id": "oGhga5a95YTb"
      },
      "source": [
        "xf = filtfilt(num, den, xs, axis=0)"
      ],
      "execution_count": null,
      "outputs": []
    },
    {
      "cell_type": "code",
      "metadata": {
        "id": "Ax336e2X1VCF"
      },
      "source": [
        "Audio([xf[:,1], xf[:,0]],rate=fs) #Resultado"
      ],
      "execution_count": null,
      "outputs": []
    },
    {
      "cell_type": "markdown",
      "metadata": {
        "id": "UZWkwD-IEH-6"
      },
      "source": [
        "## Filtro paso bajo\n",
        "Un problema que le ocurre continuamente a las señales es la presencia de ruido. A continuación se muestra el mismo audio contaminado con ruido blanco"
      ]
    },
    {
      "cell_type": "code",
      "metadata": {
        "id": "2SjpOGz9_gzA"
      },
      "source": [
        "x_n = xs + np.random.normal(loc=0, scale=0.05, size=xs.shape)"
      ],
      "execution_count": null,
      "outputs": []
    },
    {
      "cell_type": "code",
      "metadata": {
        "id": "JgYlnBVL_7gv"
      },
      "source": [
        "Audio([x_n[:,1], x_n[:,0]],rate=fs) #Resultado"
      ],
      "execution_count": null,
      "outputs": []
    },
    {
      "cell_type": "markdown",
      "metadata": {
        "id": "wX1TzTXWElMf"
      },
      "source": [
        "Por lo general el ruido se caracteriza por manejar una banda de frecuencias altas. Teniendo esto en cuenta, puede deshacerse de dicho ruido aplicando un filtro que suprima las frecuencias altas, es decir, un filtro pasabajas."
      ]
    },
    {
      "cell_type": "code",
      "metadata": {
        "id": "HwsYmopxAEJo"
      },
      "source": [
        "filtro = \"lowpass\"\n",
        "N = 10\n",
        "frec = 1600\n",
        "\n",
        "ripple_pass = 1\n",
        "ripple_stop = 100\n",
        "num, den = ellip(N, rp=ripple_pass, rs=ripple_stop, Wn=frec, btype=filtro, fs=fs)\n",
        "\n",
        "xf = lfilter(num, den, x_n, axis=0)"
      ],
      "execution_count": null,
      "outputs": []
    },
    {
      "cell_type": "markdown",
      "metadata": {
        "id": "jBod35q5LeJF"
      },
      "source": [
        "En el audio filtrado se percibe menos ruido, pero las fecuencias altas del audio original también se ven afectadas."
      ]
    },
    {
      "cell_type": "code",
      "metadata": {
        "id": "e7UypWxdAzWB"
      },
      "source": [
        "Audio([xf[:,1], xf[:,0]],rate=fs) #Audio con ruido filtrado"
      ],
      "execution_count": null,
      "outputs": []
    },
    {
      "cell_type": "markdown",
      "metadata": {
        "id": "D7yuB2TsT9P0"
      },
      "source": [
        "Según la aplicación de interés se pueden trabajar filtros pasabanda y rechazanda.\n",
        "\n",
        "El pasabanda permite atenua frecuencias por fuera de un rango determinado, mientras que el rechazabanda atenua un rango de frecuencias determinado."
      ]
    },
    {
      "cell_type": "markdown",
      "metadata": {
        "id": "EB7HlJSjTevQ"
      },
      "source": [
        "# Ejercicios\n",
        "\n",
        "1. Descargue 10 segundos de la canción de su preferencia desde youtube, y generé un filtro pasabanda (el usuario debe poder definir las frecuencias de corte) para cada uno de los filtros descritos (el usuario también debe poder fijar los parámetros de diseño de cada filtro). Compare los resultados de los filtros estudiados en este cuaderno tipo IIR para diseño Butterworth, Chebyshev 1, Chebyshev 2, Bessel y Elíptico.\n",
        "\n",
        "2. Consulte en qué consiste el método de diseño de filtros FIR por ventaneo (Ver función [firwin](https://docs.scipy.org/doc/scipy/reference/generated/scipy.signal.firwin.html) y [material de apoyo](https://www.programcreek.com/python/example/100540/scipy.signal.firwin)). Realice un cuadro comparativo de las ventajas y desventajas de los filtros IIR y los FIR. Nota: Recuerde que un filtro FIR utiliza solamente raíces tipo ceros, es decir que $a_0=1$, y $a_k=0$ $\\forall k\\in\\{1,2,\\dots\\}$.\n",
        "\n",
        "3. Incluya la implementación del filtro `firwin` en el punto 1."
      ]
    },
    {
      "cell_type": "code",
      "metadata": {
        "id": "8GZrg-YsT4Zg",
        "outputId": "fd87afdd-7302-4c8a-d294-deb10ec00aea",
        "colab": {
          "base_uri": "https://localhost:8080/"
        }
      },
      "source": [
        "#Audio sobre el que se va a trabajar para este ejemplo.\n",
        "link=\"https://www.youtube.com/watch?v=FaJXa88-QNE\"\n",
        "!yt-dlp --extract-audio -o \"audio2\" --audio-format mp3 {link}\n",
        "\n",
        "!ffmpeg -i audio2.mp3 output2.wav\n",
        "\n",
        "nombre_out = \"output2.wav\"\n",
        "x, fs = sf.read(nombre_out)"
      ],
      "execution_count": null,
      "outputs": [
        {
          "metadata": {
            "tags": null
          },
          "name": "stdout",
          "output_type": "stream",
          "text": [
            "[youtube] Extracting URL: https://www.youtube.com/watch?v=FaJXa88-QNE\n",
            "[youtube] FaJXa88-QNE: Downloading webpage\n",
            "[youtube] FaJXa88-QNE: Downloading ios player API JSON\n",
            "[youtube] FaJXa88-QNE: Downloading android player API JSON\n",
            "[youtube] FaJXa88-QNE: Downloading m3u8 information\n",
            "[info] FaJXa88-QNE: Downloading 1 format(s): 251\n",
            "[download] audio2.mp3 has already been downloaded\n",
            "[ExtractAudio] Not converting audio audio2.mp3; file is already in target format mp3\n",
            "ffmpeg version 4.4.2-0ubuntu0.22.04.1 Copyright (c) 2000-2021 the FFmpeg developers\n",
            "  built with gcc 11 (Ubuntu 11.2.0-19ubuntu1)\n",
            "  configuration: --prefix=/usr --extra-version=0ubuntu0.22.04.1 --toolchain=hardened --libdir=/usr/lib/x86_64-linux-gnu --incdir=/usr/include/x86_64-linux-gnu --arch=amd64 --enable-gpl --disable-stripping --enable-gnutls --enable-ladspa --enable-libaom --enable-libass --enable-libbluray --enable-libbs2b --enable-libcaca --enable-libcdio --enable-libcodec2 --enable-libdav1d --enable-libflite --enable-libfontconfig --enable-libfreetype --enable-libfribidi --enable-libgme --enable-libgsm --enable-libjack --enable-libmp3lame --enable-libmysofa --enable-libopenjpeg --enable-libopenmpt --enable-libopus --enable-libpulse --enable-librabbitmq --enable-librubberband --enable-libshine --enable-libsnappy --enable-libsoxr --enable-libspeex --enable-libsrt --enable-libssh --enable-libtheora --enable-libtwolame --enable-libvidstab --enable-libvorbis --enable-libvpx --enable-libwebp --enable-libx265 --enable-libxml2 --enable-libxvid --enable-libzimg --enable-libzmq --enable-libzvbi --enable-lv2 --enable-omx --enable-openal --enable-opencl --enable-opengl --enable-sdl2 --enable-pocketsphinx --enable-librsvg --enable-libmfx --enable-libdc1394 --enable-libdrm --enable-libiec61883 --enable-chromaprint --enable-frei0r --enable-libx264 --enable-shared\n",
            "  libavutil      56. 70.100 / 56. 70.100\n",
            "  libavcodec     58.134.100 / 58.134.100\n",
            "  libavformat    58. 76.100 / 58. 76.100\n",
            "  libavdevice    58. 13.100 / 58. 13.100\n",
            "  libavfilter     7.110.100 /  7.110.100\n",
            "  libswscale      5.  9.100 /  5.  9.100\n",
            "  libswresample   3.  9.100 /  3.  9.100\n",
            "  libpostproc    55.  9.100 / 55.  9.100\n",
            "Input #0, mp3, from 'audio2.mp3':\n",
            "  Metadata:\n",
            "    encoder         : Lavf58.76.100\n",
            "  Duration: 00:03:28.78, start: 0.023021, bitrate: 71 kb/s\n",
            "  Stream #0:0: Audio: mp3, 48000 Hz, stereo, fltp, 71 kb/s\n",
            "    Metadata:\n",
            "      encoder         : Lavc58.13\n",
            "File 'output2.wav' already exists. Overwrite? [y/N] "
          ]
        }
      ]
    },
    {
      "cell_type": "code",
      "source": [
        "x2 = x.copy()\n",
        "ti = 63\n",
        "tf = ti + 6\n",
        "xs = x2[int(ti*fs):int((tf*fs)),:]\n",
        "K= int(len(xs)/2) + 1\n",
        "\n",
        "Audio([xs[:,1], xs[:,0]],rate=fs) #segmento de audio"
      ],
      "metadata": {
        "id": "dEvOxlVcRkHt"
      },
      "execution_count": null,
      "outputs": []
    },
    {
      "cell_type": "markdown",
      "source": [
        "SEGUNDO PUNTO:\n",
        "\n",
        "\n",
        "El método de diseño de filtros FIR (Finite Impulse Response) por ventaneo es una técnica comúnmente utilizada para diseñar filtros digitales. Este método implica aplicar una ventana a una respuesta al impulso ideal para obtener una respuesta al impulso finita que luego se utiliza como coeficientes del filtro FIR.\n",
        "\n",
        "La función firwin en Python, por ejemplo, es una función que permite diseñar filtros FIR utilizando el método de ventaneo.\n",
        "\n",
        "Se puede especificar el tipo de ventana (como Hamming, Blackman, etc.), la frecuencia de corte y otras características del filtro.\n",
        "\n",
        "Ventajas de los Filtros FIR:\n",
        "\n",
        "- Estabilidad Lineal: Los filtros FIR son siempre estables y lineales debido a su respuesta finita al impulso. No hay polos en la región de interés.\n",
        "\n",
        "- Diseño Sencillo: El diseño de filtros FIR puede ser más sencillo conceptualmente, ya que no hay la necesidad de manejar polos y ceros en el plano complejo.\n",
        "\n",
        "- Respuesta al Impulso de Fase Lineal: Los filtros FIR pueden tener una respuesta de fase lineal, lo cual es importante en algunas aplicaciones como procesamiento de señales de audio.\n",
        "\n",
        "- Mayor Control en la Frecuencia: Permiten un control más preciso sobre la respuesta en frecuencia, ya que se pueden diseñar para tener una respuesta específica.\n",
        "\n",
        "Desventajas de los Filtros FIR:\n",
        "\n",
        "- Orden Elevado: A menudo se requiere un orden más alto para lograr las mismas características de filtrado que un filtro IIR de orden inferior.\n",
        "\n",
        "- Mayor Latencia: Debido a su naturaleza no recursiva, los filtros FIR tienden a tener mayor latencia que los filtros IIR, lo cual puede ser crítico en aplicaciones en tiempo real.\n",
        "\n",
        "- Mayor Complejidad Computacional: El cálculo de la salida de un filtro FIR puede requerir más operaciones, especialmente para órdenes elevados.\n",
        "\n",
        "- Ineficiente para Respuestas de Frecuencia de Banda Ancha: Para aplicaciones que requieren respuestas de frecuencia de banda ancha, los filtros FIR pueden no ser la opción más eficiente.\n",
        "\n",
        "Ventajas de los Filtros IIR:\n",
        "\n",
        "- Orden Inferior: En general, se necesita un orden menor para obtener características similares de filtrado en comparación con los filtros FIR.\n",
        "\n",
        "- Eficiencia Computacional: Los filtros IIR suelen requerir menos operaciones para calcular la salida, lo que puede ser crucial en aplicaciones en tiempo real.\n",
        "\n",
        "- Diseño Compacto: Pueden proporcionar una representación más compacta para ciertos tipos de respuestas en frecuencia.\n",
        "\n",
        "Desventajas de los Filtros IIR:\n",
        "\n",
        "- Posible Inestabilidad: Los filtros IIR pueden ser inestables dependiendo de la ubicación de los polos en el plano complejo.\n",
        "\n",
        "- Respuesta de Fase No Lineal: La respuesta de fase no es lineal, lo que puede ser crítico en aplicaciones como el procesamiento de audio.\n",
        "\n",
        "- Menos Control en la Frecuencia: A veces, puede ser más difícil lograr una respuesta en frecuencia específica debido a la presencia de polos y ceros.\n"
      ],
      "metadata": {
        "id": "1g1PAchhFJis"
      }
    },
    {
      "cell_type": "markdown",
      "source": [],
      "metadata": {
        "id": "R1UseQp1JeH_"
      }
    }
  ]
}